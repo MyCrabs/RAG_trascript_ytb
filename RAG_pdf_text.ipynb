{
  "nbformat": 4,
  "nbformat_minor": 0,
  "metadata": {
    "colab": {
      "provenance": []
    },
    "kernelspec": {
      "name": "python3",
      "display_name": "Python 3"
    },
    "language_info": {
      "name": "python"
    }
  },
  "cells": [
    {
      "cell_type": "code",
      "execution_count": 1,
      "metadata": {
        "id": "5rARHvKBSvfC"
      },
      "outputs": [],
      "source": [
        "import os\n",
        "from google.colab import userdata\n",
        "os.environ[\"GOOGLE_API_KEY\"] = userdata.get(\"google_api_key\")"
      ]
    },
    {
      "cell_type": "code",
      "source": [
        "!pip install -q pypdf"
      ],
      "metadata": {
        "colab": {
          "base_uri": "https://localhost:8080/"
        },
        "id": "hhaUUbtrj1Lm",
        "outputId": "52bff070-f438-4d38-984d-e6dcbe36052a"
      },
      "execution_count": 8,
      "outputs": [
        {
          "output_type": "stream",
          "name": "stdout",
          "text": [
            "\u001b[?25l   \u001b[90m━━━━━━━━━━━━━━━━━━━━━━━━━━━━━━━━━━━━━━━━\u001b[0m \u001b[32m0.0/310.5 kB\u001b[0m \u001b[31m?\u001b[0m eta \u001b[36m-:--:--\u001b[0m\r\u001b[2K   \u001b[91m━━━━━━━━━━━━━━━━━━━━━━━━━━━━━━━━━━━━━━━\u001b[0m\u001b[91m╸\u001b[0m \u001b[32m307.2/310.5 kB\u001b[0m \u001b[31m10.4 MB/s\u001b[0m eta \u001b[36m0:00:01\u001b[0m\r\u001b[2K   \u001b[90m━━━━━━━━━━━━━━━━━━━━━━━━━━━━━━━━━━━━━━━━\u001b[0m \u001b[32m310.5/310.5 kB\u001b[0m \u001b[31m7.2 MB/s\u001b[0m eta \u001b[36m0:00:00\u001b[0m\n",
            "\u001b[?25h"
          ]
        }
      ]
    },
    {
      "cell_type": "code",
      "source": [
        "!pip install -q langchain-community langchain-google-genai faiss-cpu tiktoken python-dotenv"
      ],
      "metadata": {
        "colab": {
          "base_uri": "https://localhost:8080/"
        },
        "id": "oWOhP91_iZei",
        "outputId": "080bbda6-a7fd-48f7-e3b7-3af42b3f5728"
      },
      "execution_count": 2,
      "outputs": [
        {
          "output_type": "stream",
          "name": "stdout",
          "text": [
            "\u001b[?25l   \u001b[90m━━━━━━━━━━━━━━━━━━━━━━━━━━━━━━━━━━━━━━━━\u001b[0m \u001b[32m0.0/2.5 MB\u001b[0m \u001b[31m?\u001b[0m eta \u001b[36m-:--:--\u001b[0m\r\u001b[2K   \u001b[91m━━━━━━━━━━━━━━━━━━━━━━━━━━━━━━━━━\u001b[0m\u001b[90m╺\u001b[0m\u001b[90m━━━━━━\u001b[0m \u001b[32m2.1/2.5 MB\u001b[0m \u001b[31m62.8 MB/s\u001b[0m eta \u001b[36m0:00:01\u001b[0m\r\u001b[2K   \u001b[90m━━━━━━━━━━━━━━━━━━━━━━━━━━━━━━━━━━━━━━━━\u001b[0m \u001b[32m2.5/2.5 MB\u001b[0m \u001b[31m44.9 MB/s\u001b[0m eta \u001b[36m0:00:00\u001b[0m\n",
            "\u001b[2K   \u001b[90m━━━━━━━━━━━━━━━━━━━━━━━━━━━━━━━━━━━━━━━━\u001b[0m \u001b[32m49.4/49.4 kB\u001b[0m \u001b[31m3.6 MB/s\u001b[0m eta \u001b[36m0:00:00\u001b[0m\n",
            "\u001b[2K   \u001b[90m━━━━━━━━━━━━━━━━━━━━━━━━━━━━━━━━━━━━━━━━\u001b[0m \u001b[32m31.4/31.4 MB\u001b[0m \u001b[31m52.8 MB/s\u001b[0m eta \u001b[36m0:00:00\u001b[0m\n",
            "\u001b[2K   \u001b[90m━━━━━━━━━━━━━━━━━━━━━━━━━━━━━━━━━━━━━━━━\u001b[0m \u001b[32m1.4/1.4 MB\u001b[0m \u001b[31m65.7 MB/s\u001b[0m eta \u001b[36m0:00:00\u001b[0m\n",
            "\u001b[2K   \u001b[90m━━━━━━━━━━━━━━━━━━━━━━━━━━━━━━━━━━━━━━━━\u001b[0m \u001b[32m50.9/50.9 kB\u001b[0m \u001b[31m4.1 MB/s\u001b[0m eta \u001b[36m0:00:00\u001b[0m\n",
            "\u001b[?25h\u001b[31mERROR: pip's dependency resolver does not currently take into account all the packages that are installed. This behaviour is the source of the following dependency conflicts.\n",
            "google-generativeai 0.8.5 requires google-ai-generativelanguage==0.6.15, but you have google-ai-generativelanguage 0.6.18 which is incompatible.\u001b[0m\u001b[31m\n",
            "\u001b[0m"
          ]
        }
      ]
    },
    {
      "cell_type": "code",
      "source": [
        "from langchain.text_splitter import RecursiveCharacterTextSplitter\n",
        "from langchain_google_genai import GoogleGenerativeAIEmbeddings, ChatGoogleGenerativeAI\n",
        "from langchain_community.vectorstores import FAISS\n",
        "from langchain_core.prompts import PromptTemplate\n",
        "from pypdf import PdfReader"
      ],
      "metadata": {
        "id": "1CFpF0aUioXc"
      },
      "execution_count": 36,
      "outputs": []
    },
    {
      "cell_type": "code",
      "source": [
        "Pdf_file = \"/content/phapluatDN.pdf\"\n",
        "reader = PdfReader(Pdf_file)\n",
        "pdf_contain = [page.extract_text() for page in reader.pages]"
      ],
      "metadata": {
        "id": "cr3sy2s9i7rM"
      },
      "execution_count": 31,
      "outputs": []
    },
    {
      "cell_type": "code",
      "source": [
        "pdf_contain = \".\".join(pdf_contain)\n",
        "pdf_contain"
      ],
      "metadata": {
        "colab": {
          "base_uri": "https://localhost:8080/",
          "height": 123
        },
        "id": "NBM1XWy9mG8x",
        "outputId": "1a985bd6-d308-4954-fc72-b40ae1beea81"
      },
      "execution_count": 33,
      "outputs": [
        {
          "output_type": "execute_result",
          "data": {
            "text/plain": [
              "'QUYẾT ĐỊNH\\nBan hành Quy định chức năng, nhiệm vụ, quyền hạn và cơ cấu tổ chức\\ncủa Trường Cao đẳng Đà Nẵng\\nCăn cứ Luật Tổ chức chính quyền địa phương số 72/2025/QH15 ngày 16 \\ntháng 6 năm 2025;\\nCăn cứ Luật Ban hành văn bản quy phạm pháp luật số 64/2025/QH15 ngày 19 \\ntháng 02 năm 2025; Luật sửa đổi, bổ sung một số điều của Luật Ban hành văn bản \\nquy phạm pháp luật số 87/2025/QH15 ngày 25 tháng 6 năm 2025;\\nCăn cứ Luật Giáo dục nghề nghiệp số 74/2014/QH13 ngày 27 tháng 11 năm \\n2014;\\nCăn cứ Nghị định số 78/2025/NĐ-CP ngày 01 tháng 4 năm 2025 của Chính \\nphủ quy định chi tiết một số điều và biện pháp để tổ chức, hướng dẫn thi hành Luật \\nBan hành văn bản quy phạm pháp luật;\\nCăn cứ Nghị định số 187/2025/NĐ-CP ngày 01 tháng 7 năm 2025 của Chính \\nphủ Sửa đổi, bổ sung một số điều của Nghị định số 78/2025/NĐ-CP ngày 01 tháng \\n4 năm 2025 của Chính phủ quy định chi tiết một số điều và biện pháp để tổ chức, \\nhướng dẫn thi hành Luật Ban hành văn bản quy phạm pháp luật và Nghị định số \\n79/2025/NĐ-CP ngày 01 tháng 4 năm 2025 của Chính phủ về kiểm tra, rà soát, hệ \\nthống hóa và xử lý văn bản quy phạm pháp luật;\\n  Căn cứ Nghị định số 120/2020/NĐ-CP ngày 07 tháng 10 năm 2020 của \\nChính phủ quy định về thành lập, tổ chức lại, giải thể đơn vị sự nghiệp công lập \\n(được sửa đổi, bổ sung tại Nghị định số 83/2024/NĐ-CP ngày 10 tháng 7 năm 2024 \\ncủa Chính phủ); \\nCăn cứ Thông tư số 15/2021/TT-BLĐTBXH ngày 21 tháng 10 năm 2021 của \\nBộ Lao động - Thương binh và Xã hội quy định về Điều lệ trường cao đẳng;\\nTheo đề nghị của Hiệu trưởng Trường Cao đẳng Đà Nẵng tại Tờ trình số                       \\n02/TTr-CĐĐN ngày 04 tháng 8  năm 2025;\\nỦy ban nhân dân thành phố ban hành Quyết định Quy định chức năng, nhiệm \\nvụ, quyền hạn và cơ cấu tổ chức của Trường Cao đẳng Đà Nẵng.\\nĐiều 1. Ban hành kèm theo Quyết định này Quy định chức năng, nhiệm vụ, \\nquyền hạn và cơ cấu tổ chức của Trường Cao đẳng Đà Nẵng.\\nĐiều 2. Quyết định này có hiệu lực kể từ ngày 14 tháng 8  năm 2025. \\nĐiều 3. Chánh Văn phòng Ủy ban nhân dân thành phố; Giám đốc các Sở: Nội \\nvụ, Tài chính, Giáo dục và Đào tạo; Hiệu trưởng Trường Cao đẳng Đà Nẵng, Thủ \\nỦY BAN NHÂN DÂN\\nTHÀNH PHỐ ĐÀ NẴNG\\nCỘNG HÒA XÃ HỘI CHỦ NGHĨA VIỆT NAM\\nĐộc lập - Tự do - Hạnh phúc\\nSố:   23/2025/QĐ-UBND Đà Nẵng, ngày 14 tháng 8  năm 2025.2\\ntrưởng các cơ quan, đơn vị có liên quan chịu trách nhiệm thi hành Quyết định này./.\\nTM. ỦY BAN NHÂN DÂN\\nCHỦ TỊCH\\nLương Nguyễn Minh Triết.QUY ĐỊNH\\nChức năng, nhiệm vụ, quyền hạn và cơ cấu tổ chức\\ncủa Trường Cao đẳng Đà Nẵng\\n(Ban hành kèm theo Quyết định số:  23/2025/QĐ-UBND\\nngày 14  tháng 8  năm 2025 của Ủy ban nhân dân thành phố Đà Nẵng)\\nĐiều 1. Vị trí và chức năng\\n1. Chức năng: Trường Cao đẳng Đà Nẵng có chức năng đào tạo giáo dục \\nnghề nghiệp đa ngành, đa lĩnh vực, hoạt động theo quy định của Luật Giáo dục \\nnghề nghiệp, Điều lệ trường cao đẳng và pháp luật có liên quan.\\n      2. Trường Cao đẳng Đà Nẵng là đơn vị sự nghiệp công lập trực thuộc UBND \\nthành phố, có quyền tự chủ, tự chịu trách nhiệm theo quy định của pháp luật; chịu \\nsự lãnh đạo, quản lý trực tiếp và toàn diện của UBND thành phố Đà Nẵng; chịu sự \\nquản lý nhà nước về giáo dục nghề nghiệp của Bộ Giáo dục và Đào tạo.\\n       3. Trường Cao đẳng Đà Nẵng có tư cách pháp nhân, có trụ sở, có con dấu và \\ntài khoản riêng để hoạt động theo quy định của pháp luật.\\nĐiều 2. Nhiệm vụ, quyền hạn\\n1. Nhiệm vụ\\nTrường Cao đẳng Đà Nẵng thực hiện nhiệm vụ theo quy định của pháp luật \\ncó liên quan, cụ thể:\\na) Tổ chức thực hiện chương trình đào tạo trình độ cao đẳng, trình độ trung \\ncấp, trình độ sơ cấp và các chương trình đào tạo thường xuyên theo quy định của \\nBộ Giáo dục và Đào tạo;\\nb) Tổ chức biên soạn, xây dựng hoặc lựa chọn, phê duyệt chương trình, giáo \\ntrình đào tạo, học liệu đối với từng ngành, nghề đào tạo của trường theo quy định \\ncủa Bộ Giáo dục và Đào tạo;\\nc) Xây dựng kế hoạch tuyển sinh, tổ chức tuyển sinh theo quy định của Bộ \\nGiáo dục và Đào tạo;\\nd) Tổ chức các hoạt động đào tạo; kiểm tra, thi, xét công nhận tốt nghiệp; in \\nphôi, quản lý, cấp phát bằng tốt nghiệp cao đẳng, bằng tốt nghiệp trung cấp, chứng \\nchỉ sơ cấp, chứng chỉ đào tạo theo quy định của Bộ Giáo dục và Đào tạo. Tổ chức \\nđào tạo thực hành trong đào tạo khối ngành sức khỏe và đào tạo các ngành, nghề \\nđặc thù theo quy định của Chính phủ;\\nđ) Quản lý người học, tổ chức các hoạt động thể dục, thể thao, văn hóa, văn \\nnghệ và các hoạt động giáo dục toàn diện khác cho người học theo quy định của \\nBộ Giáo dục và Đào tạo;\\ne) Tư vấn đào tạo, tư vấn nghề nghiệp, hướng nghiệp, việc làm miễn phí cho \\nỦY BAN NHÂN DÂN\\nTHÀNH PHỐ ĐÀ NẴNG\\nCỘNG HÒA XÃ HỘI CHỦ NGHĨA VIỆT NAM\\nĐộc lập - Tự do - Hạnh phúc.2\\nngười học và tổ chức hoạt động hỗ trợ học sinh, sinh viên khởi nghiệp theo quy \\nđịnh của pháp luật;\\ng) Thực hiện chính sách hỗ trợ đào tạo trình độ sơ cấp, đào tạo dưới 03 tháng \\nđối với lao động nông thôn, lao động nữ, người khuyết tật và các chính sách khác \\ntheo quy định của pháp luật;\\nh) Tuyển dụng, sử dụng, quản lý đội ngũ nhà giáo, cán bộ quản lý, viên chức, \\nngười lao động của trường bảo đảm đủ về số lượng, phù hợp với ngành, nghề, quy \\nmô và trình độ đào tạo theo quy định của pháp luật;\\ni) Cử hoặc tổ chức đào tạo, bồi dưỡng cho đội ngũ nhà giáo, cán bộ quản lý, \\nviên chức và người lao động của trường học tập, nâng cao trình độ chuyên môn, \\nnghiệp vụ theo quy định của pháp luật;\\nk) Phối hợp với doanh nghiệp, tổ chức, cá nhân, gia đình người học trong \\nhoạt động giáo dục nghề nghiệp và tư vấn nghề nghiệp, hướng nghiệp; tổ chức \\ncho đội ngũ nhà giáo, người học tham quan, thực tập tại doanh nghiệp và hỗ trợ \\ngiải quyết việc làm cho người học theo quy định của pháp luật; tổ chức cho nhà \\ngiáo, viên chức, người lao động và người học tham gia các hoạt động xã hội;\\nl) Phối hợp với trường trung học cơ sở, trung học phổ thông, trung tâm giáo \\ndục nghề nghiệp - giáo dục thường xuyên, trung tâm giáo dục thường xuyên để \\ntuyên truyền, hướng nghiệp, phân luồng học sinh vào học các trình độ của giáo \\ndục nghề nghiệp;\\nm) Thực hiện nhiệm vụ khoa học và công nghệ về giáo dục nghề nghiệp, ứng \\ndụng kết quả nghiên cứu khoa học và chuyển giao công nghệ mới phục vụ phát \\ntriển kinh tế - xã hội của bộ, ngành, địa phương;\\nn) Công bố công khai mục tiêu, chương trình đào tạo; điều kiện để bảo đảm \\nchất lượng dạy và học; mức học phí và miễn, giảm học phí; kết quả kiểm định \\nchất lượng đào tạo; hệ thống văn bằng, chứng chỉ của cơ sở giáo dục nghề nghiệp; \\nvị trí việc làm sau khi tốt nghiệp và các biện pháp kiểm tra, giám sát chất lượng \\nđào tạo. Thực hiện dân chủ, công khai theo quy định của pháp luật trong việc thực \\nhiện nhiệm vụ đào tạo, thực hiện nhiệm vụ khoa học và công nghệ, ứng dụng kết \\nquả nghiên cứu khoa học và chuyển giao công nghệ vào thực tiễn giảng dạy, tư \\nvấn nghề nghiệp, hướng nghiệp cho người học. Có cơ chế để người học tham gia \\nđánh giá hoạt động đào tạo; nhà giáo tham gia đánh giá cán bộ quản lý, viên chức \\nvà người lao động của nhà trường;\\no) Quản lý, sử dụng đất đai, cơ sở vật chất, thiết bị và tài chính, tài sản của \\ntrường theo quy định của pháp luật;\\np) Cung cấp dữ liệu về tổ chức hoạt động giáo dục nghề nghiệp của trường \\nđể xây dựng cơ sở dữ liệu về giáo dục nghề nghiệp; thực hiện chế độ báo cáo định \\nkỳ và đột xuất theo quy định;\\nq) Thực hiện quy chế dân chủ trong cơ sở giáo dục nghề nghiệp;.3\\nr) Thực hiện chế độ thông tin, báo cáo và chịu sự giám sát, thanh tra, kiểm tra \\ntheo quy định của pháp luật;\\ns) Thực hiện các nhiệm vụ khác theo quy định của pháp luật và do UBND \\nthành phố, Chủ tịch UBND thành phố giao.\\n2. Quyền hạn\\nTrường Cao đẳng Đà Nẵng thực hiện quyền hạn theo quy định của pháp luật, \\ncụ thể:\\na) Xây dựng và tổ chức thực hiện kế hoạch, chiến lược phát triển trường phù \\nhợp với chiến lược phát triển giáo dục nghề nghiệp nhằm đáp ứng yêu cầu của thị \\ntrường lao động;\\nb) Tổ chức đào tạo các chương trình giáo dục nghề nghiệp theo quy định của \\nBộ Giáo dục và Đào tạo và của UBND thành phố Đà Nẵng giao; đào tạo nhân lực, \\nbồi dưỡng nhân tài về văn hóa, nghệ thuật, góp phần xây dựng, phát triển tiềm lực \\nvăn hóa, nghệ thuật của thành phố Đà Nẵng và khu vực miền Trung - Tây \\nNguyên, đáp ứng yêu cầu hội nhập quốc tế.\\nc) Được sử dụng chương trình đào tạo của nước ngoài đã được tổ chức giáo \\ndục, đào tạo nước ngoài hoặc quốc tế có uy tín công nhận về chất lượng để thực \\nhiện nhiệm vụ đào tạo theo quy định của pháp luật; Liên kết với cơ sở giáo dục \\nnghề nghiệp, cơ sở giáo dục đại học, doanh nghiệp, tổ chức trong nước và nước \\nngoài theo quy định của pháp luật nhằm khai thác, huy động các nguồn lực xã hội \\ntrong thực hiện các chương trình đào tạo giáo dục nghề nghiệp để nâng cao chất \\nlượng đào tạo, gắn đào tạo với việc làm và thị trường lao động. Đơn vị chủ trì liên \\nkết đào tạo chịu trách nhiệm cấp văn bằng, chứng chỉ cho người học;\\nd) Liên kết, phối hợp với cơ sở giáo dục đại học tổ chức đào tạo trình độ đại \\nhọc theo hình thức vừa làm vừa học và đào tạo liên thông từ trình độ trung cấp, \\ntrình độ cao đẳng lên trình độ đại học theo quy định của Luật Giáo dục đại học và \\ncác văn bản hướng dẫn thi hành;\\nđ) Phối hợp với doanh nghiệp, cơ sở sản xuất, kinh doanh, dịch vụ trong hoạt \\nđộng xây dựng chương trình, giáo trình đào tạo, tài liệu, học liệu giảng dạy; tổ \\nchức giảng dạy, hướng dẫn thực hành, thực tập, đánh giá kết quả học tập của \\nngười học; bồi dưỡng nâng cao trình độ chuyên môn, nghiệp vụ cho nhà giáo;\\ne) Tổ chức giảng dạy khối lượng kiến thức văn hóa trung học phổ thông cho \\nhọc sinh có bằng tốt nghiệp trung học cơ sở theo học trình độ trung cấp theo quy \\nđịnh của Luật Giáo dục và các văn bản hướng dẫn thi hành;\\ng) Thực hiện chương trình giáo dục thường xuyên cấp trung học phổ thông \\ntheo quy định của pháp luật;\\nh) Quyết định thành lập các tổ chức trực thuộc trường và bổ nhiệm, thôi giữ \\nchức vụ, miễn nhiệm cán bộ quản lý. Trường thành lập tổ chức thuộc Trường theo \\ncơ cấu tổ chức được phê duyệt trong quy chế tổ chức, hoạt động của Trường; bổ .4\\nnhiệm, thôi giữ chức vụ, miễn nhiệm viên chức quản lý theo quy định của pháp \\nluật đối với đơn vị sự nghiệp công lập, pháp luật viên chức và phân cấp quản lý \\nviên chức.\\ni) Tổ chức đào tạo, bồi dưỡng chuyên môn, nghiệp vụ, chuẩn chức danh nghề \\nnghiệp của nhà giáo giáo dục nghề nghiệp theo quy định của Bộ Giáo dục và Đào \\ntạo;\\nk) Tổ chức hoạt động phát triển, đánh giá kỹ năng nghề theo quy định của \\nChính phủ;\\nl) Tổ chức hoạt động kiểm định  và bảo đảm chất lượng giáo dục nghề nghiệp \\ntheo quy định của Chính phủ;\\nm) Xây dựng, đầu tư cơ sở vật chất, thiết bị đào tạo theo yêu cầu chuẩn hóa, \\nhiện đại hóa. Sử dụng nguồn thu từ hoạt động đào tạo, khoa học, công nghệ và \\ndịch vụ để đầu tư xây dựng cơ sở vật chất của Trường, chi cho các hoạt động đào \\ntạo, bổ sung nguồn tài chính của Trường và các hoạt động khác theo quy định của \\npháp luật;\\nn) Huy động, nhận tài trợ, quản lý và sử dụng nguồn huy động, tài trợ theo \\nquy định của pháp luật nhằm thực hiện các hoạt động của Trường;\\no) Quản lý, sử dụng tài sản công theo quy định của pháp luật về quản lý, sử dụng \\ntài sản công; quản lý và sử dụng nguồn tài chính theo quy định của pháp luật;\\np) Được Nhà nước giao hoặc cho thuê đất, giao hoặc cho thuê cơ sở vật chất; \\nđược tham gia đấu thầu, đặt hàng hoặc giao nhiệm vụ đối với các dịch vụ công sử \\ndụng ngân sách nhà nước trong lĩnh vực giáo dục nghề nghiệp theo quy định của \\npháp luật; được hưởng các chính sách ưu đãi về thuế và tín dụng theo quy định \\ncủa pháp luật;\\nq) Được thành lập doanh nghiệp, được tổ chức hoạt động khoa học và công \\nnghệ, sản xuất, kinh doanh, dịch vụ theo quy định của pháp luật;\\nr) Đưa nội dung giảng dạy về ngôn ngữ, phong tục, tập quán, pháp luật có \\nliên quan của nước mà người lao động đến làm việc và pháp luật có liên quan của \\nViệt Nam vào chương trình đào tạo khi tổ chức đào tạo cho người lao động đi làm \\nviệc ở nước ngoài;\\ns) Thực hiện các quyền khác theo quy định của pháp luật.\\nĐiều 3. Cơ cấu tổ chức\\n1. Hội đồng Trường\\n2. Hiệu trưởng và các Phó Hiệu trưởng. Số lượng Phó Hiệu trưởng thực hiện \\ntheo quy định hiện hành về số lượng cấp phó trong đơn vị sự nghiệp công lập. \\nViệc bổ nhiệm, bổ nhiệm lại, miễn nhiệm, cách chức, đánh giá, khen thưởng, kỷ \\nluật, nghỉ hưu và thực hiện các chế độ chính sách khác đối với Hiệu trưởng, các \\nPhó Hiệu trưởng thực hiện theo quy định của pháp luật hiện hành và quy định về \\nphân cấp quản lý cán bộ..5\\n3. Các phòng, khoa, trung tâm thuộc Trường Cao đẳng Đà Nẵng\\n- Phòng Tổ chức Hành chính - Quản trị\\n- Phòng Tài chính\\n- Phòng Đào tạo - Công tác Học sinh, sinh viên\\n- Khoa Cơ bản - Văn hoá\\n- Khoa Cơ khí\\n- Khoa Công nghệ thông tin\\n- Khoa Điện - Điện tử\\n- Khoa Kinh tế - Du lịch và Dịch vụ\\n- Khoa Tự động hoá\\n- Khoa Âm nhạc\\n- Khoa Sân khấu - Múa\\n- Khoa Mỹ thuật - Thời trang\\n- Khoa Sư phạm Giáo dục nghề nghiệp\\n- Trung tâm Tuyển sinh và Bảo đảm chất lượng\\n- Trung tâm Đào tạo Thực hành \\nĐiều 4. Số lượng người làm việc\\n1. Số lượng người làm việc của Trường được xác định trên cơ sở vị trí việc \\nlàm, gắn với chức năng, nhiệm vụ, phạm vi hoạt động, đảm bảo theo quy định của \\ncấp có thẩm quyền.\\n2. Việc quản lý viên chức, người lao động của Trường Cao đẳng Đà Nẵng \\ntrong phạm vi chỉ tiêu số lượng người làm việc được giao, đảm bảo theo đúng \\nquy định hiện hành về quản lý, sử dụng viên chức, người lao động trong các đơn \\nvị sự nghiệp công lập. Việc tuyển dụng, sử dụng, quản lý viên chức, người lao \\nđộng của Trường Cao đẳng Đà Nẵng phải căn cứ vào vị trí việc làm, cơ cấu, tiêu \\nchuẩn chức danh nghề nghiệp viên chức theo quy định của pháp luật, theo yêu \\ncầu nhiệm vụ, nhu cầu công việc và quy định về phân cấp quản lý viên chức.\\n3. Việc phân bổ số lượng người làm việc cho các phòng, khoa, trung tâm \\nthuộc Trường phải đảm bảo theo quy định hiện hành.\\nĐiều 5. Tổ chức thực hiện\\nHiệu trưởng Trường Cao đẳng Đà Nẵng căn cứ chức năng, nhiệm vụ và \\nquyền hạn của Trường Cao đẳng Đà Nẵng để ban hành Quy chế tổ chức và hoạt \\nđộng của Trường Cao đẳng Đà Nẵng, quyết định thành lập, quy định chức năng, \\nnhiệm vụ, quyền hạn các phòng, khoa, trung tâm thuộc Trường theo nguyên tắc \\nbao quát đầy đủ các lĩnh vực công tác, phù hợp với tính chất, đặc điểm và khối \\nlượng công việc thực tế của đơn vị..6\\nTrong quá trình thực hiện Quy định này, nếu cần sửa đổi, bổ sung, Hiệu \\ntrưởng Trường Cao đẳng Đà Nẵng đề xuất, kiến nghị Ủy ban nhân dân thành phố \\nxem xét, quyết định./.'"
            ],
            "application/vnd.google.colaboratory.intrinsic+json": {
              "type": "string"
            }
          },
          "metadata": {},
          "execution_count": 33
        }
      ]
    },
    {
      "cell_type": "code",
      "source": [
        "# Chunking\n",
        "splitter = RecursiveCharacterTextSplitter(chunk_size = 1000, chunk_overlap = 200)\n",
        "chunks = splitter.create_documents([pdf_contain])"
      ],
      "metadata": {
        "id": "8VbAHMjgkIh4"
      },
      "execution_count": 34,
      "outputs": []
    },
    {
      "cell_type": "code",
      "source": [
        "#Tạo 1 VectorDB\n",
        "embeddings = GoogleGenerativeAIEmbeddings(model=\"models/embedding-001\")\n",
        "vector_store = FAISS.from_documents(chunks, embeddings)"
      ],
      "metadata": {
        "id": "jq60pDdUm9ac"
      },
      "execution_count": 37,
      "outputs": []
    },
    {
      "cell_type": "code",
      "source": [
        "#Retrieve 4 vector gần nhất\n",
        "retriever = vector_store.as_retriever(search_type=\"similarity\", search_kwargs = {\"k\":4})\n",
        "retriever.invoke(\"Nhiệm vụ, quyền hạn\")"
      ],
      "metadata": {
        "colab": {
          "base_uri": "https://localhost:8080/"
        },
        "collapsed": true,
        "id": "YhjF1dnOnyUK",
        "outputId": "cb022ca6-9750-48f6-b9f5-4d0c0fff5f61"
      },
      "execution_count": 38,
      "outputs": [
        {
          "output_type": "execute_result",
          "data": {
            "text/plain": [
              "[Document(id='5ef1ab5f-86d6-4d4b-be0e-5cf65c305576', metadata={}, page_content='Chính phủ;\\nl) Tổ chức hoạt động kiểm định  và bảo đảm chất lượng giáo dục nghề nghiệp \\ntheo quy định của Chính phủ;\\nm) Xây dựng, đầu tư cơ sở vật chất, thiết bị đào tạo theo yêu cầu chuẩn hóa, \\nhiện đại hóa. Sử dụng nguồn thu từ hoạt động đào tạo, khoa học, công nghệ và \\ndịch vụ để đầu tư xây dựng cơ sở vật chất của Trường, chi cho các hoạt động đào \\ntạo, bổ sung nguồn tài chính của Trường và các hoạt động khác theo quy định của \\npháp luật;\\nn) Huy động, nhận tài trợ, quản lý và sử dụng nguồn huy động, tài trợ theo \\nquy định của pháp luật nhằm thực hiện các hoạt động của Trường;\\no) Quản lý, sử dụng tài sản công theo quy định của pháp luật về quản lý, sử dụng \\ntài sản công; quản lý và sử dụng nguồn tài chính theo quy định của pháp luật;\\np) Được Nhà nước giao hoặc cho thuê đất, giao hoặc cho thuê cơ sở vật chất; \\nđược tham gia đấu thầu, đặt hàng hoặc giao nhiệm vụ đối với các dịch vụ công sử \\ndụng ngân sách nhà nước trong lĩnh vực giáo dục nghề nghiệp theo quy định của'),\n",
              " Document(id='74d2b185-4a98-407b-ab2f-cdcedf5d4a99', metadata={}, page_content='chất lượng đào tạo; hệ thống văn bằng, chứng chỉ của cơ sở giáo dục nghề nghiệp; \\nvị trí việc làm sau khi tốt nghiệp và các biện pháp kiểm tra, giám sát chất lượng \\nđào tạo. Thực hiện dân chủ, công khai theo quy định của pháp luật trong việc thực \\nhiện nhiệm vụ đào tạo, thực hiện nhiệm vụ khoa học và công nghệ, ứng dụng kết \\nquả nghiên cứu khoa học và chuyển giao công nghệ vào thực tiễn giảng dạy, tư \\nvấn nghề nghiệp, hướng nghiệp cho người học. Có cơ chế để người học tham gia \\nđánh giá hoạt động đào tạo; nhà giáo tham gia đánh giá cán bộ quản lý, viên chức \\nvà người lao động của nhà trường;\\no) Quản lý, sử dụng đất đai, cơ sở vật chất, thiết bị và tài chính, tài sản của \\ntrường theo quy định của pháp luật;\\np) Cung cấp dữ liệu về tổ chức hoạt động giáo dục nghề nghiệp của trường \\nđể xây dựng cơ sở dữ liệu về giáo dục nghề nghiệp; thực hiện chế độ báo cáo định \\nkỳ và đột xuất theo quy định;\\nq) Thực hiện quy chế dân chủ trong cơ sở giáo dục nghề nghiệp;.3'),\n",
              " Document(id='a24c3290-42f7-4fa3-9f5f-a01de19f112e', metadata={}, page_content='giải quyết việc làm cho người học theo quy định của pháp luật; tổ chức cho nhà \\ngiáo, viên chức, người lao động và người học tham gia các hoạt động xã hội;\\nl) Phối hợp với trường trung học cơ sở, trung học phổ thông, trung tâm giáo \\ndục nghề nghiệp - giáo dục thường xuyên, trung tâm giáo dục thường xuyên để \\ntuyên truyền, hướng nghiệp, phân luồng học sinh vào học các trình độ của giáo \\ndục nghề nghiệp;\\nm) Thực hiện nhiệm vụ khoa học và công nghệ về giáo dục nghề nghiệp, ứng \\ndụng kết quả nghiên cứu khoa học và chuyển giao công nghệ mới phục vụ phát \\ntriển kinh tế - xã hội của bộ, ngành, địa phương;\\nn) Công bố công khai mục tiêu, chương trình đào tạo; điều kiện để bảo đảm \\nchất lượng dạy và học; mức học phí và miễn, giảm học phí; kết quả kiểm định \\nchất lượng đào tạo; hệ thống văn bằng, chứng chỉ của cơ sở giáo dục nghề nghiệp; \\nvị trí việc làm sau khi tốt nghiệp và các biện pháp kiểm tra, giám sát chất lượng'),\n",
              " Document(id='4489a74a-415f-4268-a4e6-68a0198c263d', metadata={}, page_content='g) Thực hiện chương trình giáo dục thường xuyên cấp trung học phổ thông \\ntheo quy định của pháp luật;\\nh) Quyết định thành lập các tổ chức trực thuộc trường và bổ nhiệm, thôi giữ \\nchức vụ, miễn nhiệm cán bộ quản lý. Trường thành lập tổ chức thuộc Trường theo \\ncơ cấu tổ chức được phê duyệt trong quy chế tổ chức, hoạt động của Trường; bổ .4\\nnhiệm, thôi giữ chức vụ, miễn nhiệm viên chức quản lý theo quy định của pháp \\nluật đối với đơn vị sự nghiệp công lập, pháp luật viên chức và phân cấp quản lý \\nviên chức.\\ni) Tổ chức đào tạo, bồi dưỡng chuyên môn, nghiệp vụ, chuẩn chức danh nghề \\nnghiệp của nhà giáo giáo dục nghề nghiệp theo quy định của Bộ Giáo dục và Đào \\ntạo;\\nk) Tổ chức hoạt động phát triển, đánh giá kỹ năng nghề theo quy định của \\nChính phủ;\\nl) Tổ chức hoạt động kiểm định  và bảo đảm chất lượng giáo dục nghề nghiệp \\ntheo quy định của Chính phủ;\\nm) Xây dựng, đầu tư cơ sở vật chất, thiết bị đào tạo theo yêu cầu chuẩn hóa,')]"
            ]
          },
          "metadata": {},
          "execution_count": 38
        }
      ]
    },
    {
      "cell_type": "code",
      "source": [
        "llm = ChatGoogleGenerativeAI(model=\"gemini-1.5-flash\", temperature=0.2)\n",
        "\n",
        "prompt = PromptTemplate(\n",
        "    template=\"\"\"\n",
        "      You are a helpful assistance.\n",
        "      Answer ONLY from the provided transcript context.\n",
        "      If the context is insufficient, just say you don't know.\n",
        "      {content}\n",
        "      Question: {question}\n",
        "    \"\"\",\n",
        "    input_variables=[\"content\", \"question\"]\n",
        ")"
      ],
      "metadata": {
        "id": "zP0JZk4xns6z"
      },
      "execution_count": 44,
      "outputs": []
    },
    {
      "cell_type": "code",
      "source": [
        "question = \"Trường Cao đẳng Đà Nẵng thực hiện nhiệm vụ theo cái gì?\"\n",
        "retrieved_docs = retriever.invoke(question)\n",
        "context_text = \"\\n\\n\".join(doc.page_content for doc in retrieved_docs)\n",
        "final_promt = prompt.invoke({\"content\":context_text, \"question\":question})\n",
        "answer = llm.invoke(final_promt)\n",
        "answer.content"
      ],
      "metadata": {
        "colab": {
          "base_uri": "https://localhost:8080/",
          "height": 36
        },
        "id": "EsFeL7CqpQI_",
        "outputId": "fdb86ae6-f8fb-4f46-ac2c-acd8b8d6e8cf"
      },
      "execution_count": 46,
      "outputs": [
        {
          "output_type": "execute_result",
          "data": {
            "text/plain": [
              "'Trường Cao đẳng Đà Nẵng thực hiện nhiệm vụ theo quy định của pháp luật hiện hành và quy định về phân cấp quản lý cán bộ.'"
            ],
            "application/vnd.google.colaboratory.intrinsic+json": {
              "type": "string"
            }
          },
          "metadata": {},
          "execution_count": 46
        }
      ]
    },
    {
      "cell_type": "code",
      "source": [],
      "metadata": {
        "id": "PgHnjxGfqAmf"
      },
      "execution_count": null,
      "outputs": []
    }
  ]
}